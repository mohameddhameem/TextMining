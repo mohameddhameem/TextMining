{
 "cells": [
  {
   "cell_type": "code",
   "execution_count": 1,
   "metadata": {
    "collapsed": true
   },
   "outputs": [],
   "source": [
    "import nltk\n",
    "from nltk import word_tokenize, pos_tag, ne_chunk"
   ]
  },
  {
   "cell_type": "code",
   "execution_count": 2,
   "metadata": {
    "collapsed": true
   },
   "outputs": [],
   "source": [
    "sent = '''Professor Tan Eng Chye, NUS Deputy President and Provost, and Professor \n",
    "Menahem Ben-Sasson, President of HUJ signed the joint degree agreement at NUS, \n",
    "in the presence of Ambassador of Israel to Singapore Her Excellency Amira Arnon \n",
    "and about 30 invited guests, on July 03, 2013.\n",
    "'''"
   ]
  },
  {
   "cell_type": "markdown",
   "metadata": {},
   "source": [
    "POST Tag followed by NE Chunk"
   ]
  },
  {
   "cell_type": "code",
   "execution_count": 3,
   "metadata": {},
   "outputs": [
    {
     "data": {
      "text/plain": [
       "[('Professor', 'NNP'),\n",
       " ('Tan', 'NNP'),\n",
       " ('Eng', 'NNP'),\n",
       " ('Chye', 'NNP'),\n",
       " (',', ','),\n",
       " ('NUS', 'NNP'),\n",
       " ('Deputy', 'NNP'),\n",
       " ('President', 'NNP'),\n",
       " ('and', 'CC'),\n",
       " ('Provost', 'NNP'),\n",
       " (',', ','),\n",
       " ('and', 'CC'),\n",
       " ('Professor', 'NNP'),\n",
       " ('Menahem', 'NNP'),\n",
       " ('Ben-Sasson', 'NNP'),\n",
       " (',', ','),\n",
       " ('President', 'NNP'),\n",
       " ('of', 'IN'),\n",
       " ('HUJ', 'NNP'),\n",
       " ('signed', 'VBD'),\n",
       " ('the', 'DT'),\n",
       " ('joint', 'JJ'),\n",
       " ('degree', 'NN'),\n",
       " ('agreement', 'NN'),\n",
       " ('at', 'IN'),\n",
       " ('NUS', 'NNP'),\n",
       " (',', ','),\n",
       " ('in', 'IN'),\n",
       " ('the', 'DT'),\n",
       " ('presence', 'NN'),\n",
       " ('of', 'IN'),\n",
       " ('Ambassador', 'NNP'),\n",
       " ('of', 'IN'),\n",
       " ('Israel', 'NNP'),\n",
       " ('to', 'TO'),\n",
       " ('Singapore', 'NNP'),\n",
       " ('Her', 'NNP'),\n",
       " ('Excellency', 'NNP'),\n",
       " ('Amira', 'NNP'),\n",
       " ('Arnon', 'NNP'),\n",
       " ('and', 'CC'),\n",
       " ('about', 'IN'),\n",
       " ('30', 'CD'),\n",
       " ('invited', 'JJ'),\n",
       " ('guests', 'NNS'),\n",
       " (',', ','),\n",
       " ('on', 'IN'),\n",
       " ('July', 'NNP'),\n",
       " ('03', 'CD'),\n",
       " (',', ','),\n",
       " ('2013', 'CD'),\n",
       " ('.', '.')]"
      ]
     },
     "execution_count": 3,
     "metadata": {},
     "output_type": "execute_result"
    }
   ],
   "source": [
    "# The input for POS tagger needs to be tokenized first.\n",
    "sent_pos = pos_tag(word_tokenize(sent))\n",
    "sent_pos"
   ]
  },
  {
   "cell_type": "code",
   "execution_count": 4,
   "metadata": {},
   "outputs": [
    {
     "name": "stdout",
     "output_type": "stream",
     "text": [
      "(S\n",
      "  Professor/NNP\n",
      "  Tan/NNP\n",
      "  Eng/NNP\n",
      "  Chye/NNP\n",
      "  ,/,\n",
      "  (ORGANIZATION NUS/NNP)\n",
      "  Deputy/NNP\n",
      "  President/NNP\n",
      "  and/CC\n",
      "  (ORGANIZATION Provost/NNP)\n",
      "  ,/,\n",
      "  and/CC\n",
      "  (ORGANIZATION Professor/NNP Menahem/NNP)\n",
      "  Ben-Sasson/NNP\n",
      "  ,/,\n",
      "  President/NNP\n",
      "  of/IN\n",
      "  (ORGANIZATION HUJ/NNP)\n",
      "  signed/VBD\n",
      "  the/DT\n",
      "  joint/JJ\n",
      "  degree/NN\n",
      "  agreement/NN\n",
      "  at/IN\n",
      "  (ORGANIZATION NUS/NNP)\n",
      "  ,/,\n",
      "  in/IN\n",
      "  the/DT\n",
      "  presence/NN\n",
      "  of/IN\n",
      "  (ORGANIZATION Ambassador/NNP)\n",
      "  of/IN\n",
      "  (GPE Israel/NNP)\n",
      "  to/TO\n",
      "  (GPE Singapore/NNP)\n",
      "  Her/NNP\n",
      "  Excellency/NNP\n",
      "  (PERSON Amira/NNP Arnon/NNP)\n",
      "  and/CC\n",
      "  about/IN\n",
      "  30/CD\n",
      "  invited/JJ\n",
      "  guests/NNS\n",
      "  ,/,\n",
      "  on/IN\n",
      "  July/NNP\n",
      "  03/CD\n",
      "  ,/,\n",
      "  2013/CD\n",
      "  ./.)\n"
     ]
    }
   ],
   "source": [
    "# ===== NER using NLTK =====\n",
    "# The input for the NE chunker needs to have POS tags.\n",
    "sent_chunk = ne_chunk(sent_pos)\n",
    "print(sent_chunk)"
   ]
  },
  {
   "cell_type": "code",
   "execution_count": 19,
   "metadata": {},
   "outputs": [
    {
     "name": "stdout",
     "output_type": "stream",
     "text": [
      "(S\n",
      "  (NE Professor/NNP Tan/NNP Eng/NNP Chye/NNP)\n",
      "  ,/,\n",
      "  (NE NUS/NNP Deputy/NNP President/NNP)\n",
      "  and/CC\n",
      "  (NE Provost/NNP)\n",
      "  ,/,\n",
      "  and/CC\n",
      "  (NE Professor/NNP Menahem/NNP Ben-Sasson/NNP)\n",
      "  ,/,\n",
      "  (NE President/NNP)\n",
      "  of/IN\n",
      "  (NE HUJ/NNP)\n",
      "  signed/VBD\n",
      "  (NP the/DT joint/JJ degree/NN)\n",
      "  agreement/NN\n",
      "  at/IN\n",
      "  (NE NUS/NNP)\n",
      "  ,/,\n",
      "  in/IN\n",
      "  (NP the/DT presence/NN)\n",
      "  of/IN\n",
      "  (NE Ambassador/NNP)\n",
      "  of/IN\n",
      "  (NE Israel/NNP)\n",
      "  to/TO\n",
      "  (NE Singapore/NNP Her/NNP Excellency/NNP Amira/NNP Arnon/NNP)\n",
      "  and/CC\n",
      "  about/IN\n",
      "  30/CD\n",
      "  invited/JJ\n",
      "  guests/NNS\n",
      "  ,/,\n",
      "  on/IN\n",
      "  (NE July/NNP)\n",
      "  03/CD\n",
      "  ,/,\n",
      "  2013/CD\n",
      "  ./.)\n"
     ]
    }
   ],
   "source": [
    "# ===== Now try creating your own named entity and noun phrase chunker ====\n",
    "# We need to define the tag patterns to capture the target phrases and use \n",
    "# RegexParser to chunk the input with those patterns.\n",
    "# Some minimal tag patterns are given here. \n",
    "\n",
    "#NE = Name Entity\n",
    "#NP = normal phrase . \n",
    "# if its more than one pattern then put more curly bracket\n",
    "#NNP =  <>will try to match words\n",
    "# instead of {<DT><NN>} {<DT><JJ>?<NN>}\n",
    "#for month create a new label list of Months and do POS Tagging again\n",
    "grammar = r\"\"\"\n",
    "  NE: {<NNP>+}      # chunk sequences of proper nouns\n",
    "  NP:                 \n",
    "      {<DT><JJ>?<NN>}     \n",
    "\"\"\"\n",
    "\n",
    "cp = nltk.RegexpParser(grammar)\n",
    "print(cp.parse(sent_pos))"
   ]
  },
  {
   "cell_type": "code",
   "execution_count": null,
   "metadata": {
    "collapsed": true
   },
   "outputs": [],
   "source": [
    "#------------------------------------------------------------------------\n",
    "# Exercise: modify the above tag patterns to capture the NEs and NPs in the \n",
    "# example sentence. \n",
    "#-------------------------------------------------------------------------"
   ]
  },
  {
   "cell_type": "code",
   "execution_count": null,
   "metadata": {
    "collapsed": true
   },
   "outputs": [],
   "source": []
  }
 ],
 "metadata": {
  "kernelspec": {
   "display_name": "Python 3",
   "language": "python",
   "name": "python3"
  },
  "language_info": {
   "codemirror_mode": {
    "name": "ipython",
    "version": 3
   },
   "file_extension": ".py",
   "mimetype": "text/x-python",
   "name": "python",
   "nbconvert_exporter": "python",
   "pygments_lexer": "ipython3",
   "version": "3.6.1"
  }
 },
 "nbformat": 4,
 "nbformat_minor": 2
}
