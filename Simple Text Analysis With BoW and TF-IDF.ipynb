{
 "cells": [
  {
   "cell_type": "code",
   "execution_count": 1,
   "metadata": {},
   "outputs": [],
   "source": [
    "import collections\n",
    "import string"
   ]
  },
  {
   "cell_type": "code",
   "execution_count": 2,
   "metadata": {},
   "outputs": [],
   "source": [
    "sentence = 'Baa, baa, black sheep, \\\n",
    "Have you any wool? \\\n",
    "Yes, sir, yes, sir, \\\n",
    "Three bags full; \\\n",
    "One for the master, \\\n",
    "And one for the dame, \\\n",
    "And one for the little boy \\\n",
    "Who lives down the lane.'"
   ]
  },
  {
   "cell_type": "code",
   "execution_count": 4,
   "metadata": {},
   "outputs": [],
   "source": [
    "sentences = sentence.split()"
   ]
  },
  {
   "cell_type": "code",
   "execution_count": 5,
   "metadata": {},
   "outputs": [
    {
     "data": {
      "text/plain": [
       "['Baa,',\n",
       " 'baa,',\n",
       " 'black',\n",
       " 'sheep,',\n",
       " 'Have',\n",
       " 'you',\n",
       " 'any',\n",
       " 'wool?',\n",
       " 'Yes,',\n",
       " 'sir,',\n",
       " 'yes,',\n",
       " 'sir,',\n",
       " 'Three',\n",
       " 'bags',\n",
       " 'full;',\n",
       " 'One',\n",
       " 'for',\n",
       " 'the',\n",
       " 'master,',\n",
       " 'And',\n",
       " 'one',\n",
       " 'for',\n",
       " 'the',\n",
       " 'dame,',\n",
       " 'And',\n",
       " 'one',\n",
       " 'for',\n",
       " 'the',\n",
       " 'little',\n",
       " 'boy',\n",
       " 'Who',\n",
       " 'lives',\n",
       " 'down',\n",
       " 'the',\n",
       " 'lane.']"
      ]
     },
     "execution_count": 5,
     "metadata": {},
     "output_type": "execute_result"
    }
   ],
   "source": [
    "sentences"
   ]
  },
  {
   "cell_type": "code",
   "execution_count": 6,
   "metadata": {},
   "outputs": [],
   "source": [
    "sentences = [sentence,\\\n",
    "             'Hickory, dickory, dock. The mouse ran up the clock. The clock struck one, The mouse ran down, Hickory, dickory, dock.']"
   ]
  },
  {
   "cell_type": "code",
   "execution_count": 9,
   "metadata": {},
   "outputs": [],
   "source": [
    "wordList = [word for line in sentences for word in line.split()]"
   ]
  },
  {
   "cell_type": "code",
   "execution_count": 10,
   "metadata": {},
   "outputs": [
    {
     "data": {
      "text/plain": [
       "['Baa,',\n",
       " 'baa,',\n",
       " 'black',\n",
       " 'sheep,',\n",
       " 'Have',\n",
       " 'you',\n",
       " 'any',\n",
       " 'wool?',\n",
       " 'Yes,',\n",
       " 'sir,',\n",
       " 'yes,',\n",
       " 'sir,',\n",
       " 'Three',\n",
       " 'bags',\n",
       " 'full;',\n",
       " 'One',\n",
       " 'for',\n",
       " 'the',\n",
       " 'master,',\n",
       " 'And',\n",
       " 'one',\n",
       " 'for',\n",
       " 'the',\n",
       " 'dame,',\n",
       " 'And',\n",
       " 'one',\n",
       " 'for',\n",
       " 'the',\n",
       " 'little',\n",
       " 'boy',\n",
       " 'Who',\n",
       " 'lives',\n",
       " 'down',\n",
       " 'the',\n",
       " 'lane.',\n",
       " 'Hickory,',\n",
       " 'dickory,',\n",
       " 'dock.',\n",
       " 'The',\n",
       " 'mouse',\n",
       " 'ran',\n",
       " 'up',\n",
       " 'the',\n",
       " 'clock.',\n",
       " 'The',\n",
       " 'clock',\n",
       " 'struck',\n",
       " 'one,',\n",
       " 'The',\n",
       " 'mouse',\n",
       " 'ran',\n",
       " 'down,',\n",
       " 'Hickory,',\n",
       " 'dickory,',\n",
       " 'dock.']"
      ]
     },
     "execution_count": 10,
     "metadata": {},
     "output_type": "execute_result"
    }
   ],
   "source": [
    "wordList"
   ]
  },
  {
   "cell_type": "code",
   "execution_count": 11,
   "metadata": {},
   "outputs": [
    {
     "data": {
      "text/plain": [
       "Counter({'Baa,': 1,\n",
       "         'baa,': 1,\n",
       "         'black': 1,\n",
       "         'sheep,': 1,\n",
       "         'Have': 1,\n",
       "         'you': 1,\n",
       "         'any': 1,\n",
       "         'wool?': 1,\n",
       "         'Yes,': 1,\n",
       "         'sir,': 2,\n",
       "         'yes,': 1,\n",
       "         'Three': 1,\n",
       "         'bags': 1,\n",
       "         'full;': 1,\n",
       "         'One': 1,\n",
       "         'for': 3,\n",
       "         'the': 5,\n",
       "         'master,': 1,\n",
       "         'And': 2,\n",
       "         'one': 2,\n",
       "         'dame,': 1,\n",
       "         'little': 1,\n",
       "         'boy': 1,\n",
       "         'Who': 1,\n",
       "         'lives': 1,\n",
       "         'down': 1,\n",
       "         'lane.': 1,\n",
       "         'Hickory,': 2,\n",
       "         'dickory,': 2,\n",
       "         'dock.': 2,\n",
       "         'The': 3,\n",
       "         'mouse': 2,\n",
       "         'ran': 2,\n",
       "         'up': 1,\n",
       "         'clock.': 1,\n",
       "         'clock': 1,\n",
       "         'struck': 1,\n",
       "         'one,': 1,\n",
       "         'down,': 1})"
      ]
     },
     "execution_count": 11,
     "metadata": {},
     "output_type": "execute_result"
    }
   ],
   "source": [
    "collections.Counter(wordList)"
   ]
  },
  {
   "cell_type": "code",
   "execution_count": 12,
   "metadata": {},
   "outputs": [
    {
     "data": {
      "text/plain": [
       "'!\"#$%&\\'()*+,-./:;<=>?@[\\\\]^_`{|}~'"
      ]
     },
     "execution_count": 12,
     "metadata": {},
     "output_type": "execute_result"
    }
   ],
   "source": [
    "string.punctuation"
   ]
  },
  {
   "cell_type": "code",
   "execution_count": 13,
   "metadata": {},
   "outputs": [
    {
     "data": {
      "text/plain": [
       "['baa',\n",
       " 'baa',\n",
       " 'black',\n",
       " 'sheep',\n",
       " 'have',\n",
       " 'you',\n",
       " 'any',\n",
       " 'wool',\n",
       " 'yes',\n",
       " 'sir',\n",
       " 'yes',\n",
       " 'sir',\n",
       " 'three',\n",
       " 'bags',\n",
       " 'full',\n",
       " 'one',\n",
       " 'for',\n",
       " 'the',\n",
       " 'master',\n",
       " 'and',\n",
       " 'one',\n",
       " 'for',\n",
       " 'the',\n",
       " 'dame',\n",
       " 'and',\n",
       " 'one',\n",
       " 'for',\n",
       " 'the',\n",
       " 'little',\n",
       " 'boy',\n",
       " 'who',\n",
       " 'lives',\n",
       " 'down',\n",
       " 'the',\n",
       " 'lane']"
      ]
     },
     "execution_count": 13,
     "metadata": {},
     "output_type": "execute_result"
    }
   ],
   "source": [
    "_bow = sentence.lower().translate(str.maketrans('','',string.punctuation)).split()\n",
    "_bow"
   ]
  },
  {
   "cell_type": "code",
   "execution_count": 14,
   "metadata": {},
   "outputs": [
    {
     "data": {
      "text/plain": [
       "Counter({'baa': 2,\n",
       "         'black': 1,\n",
       "         'sheep': 1,\n",
       "         'have': 1,\n",
       "         'you': 1,\n",
       "         'any': 1,\n",
       "         'wool': 1,\n",
       "         'yes': 2,\n",
       "         'sir': 2,\n",
       "         'three': 1,\n",
       "         'bags': 1,\n",
       "         'full': 1,\n",
       "         'one': 3,\n",
       "         'for': 3,\n",
       "         'the': 4,\n",
       "         'master': 1,\n",
       "         'and': 2,\n",
       "         'dame': 1,\n",
       "         'little': 1,\n",
       "         'boy': 1,\n",
       "         'who': 1,\n",
       "         'lives': 1,\n",
       "         'down': 1,\n",
       "         'lane': 1})"
      ]
     },
     "execution_count": 14,
     "metadata": {},
     "output_type": "execute_result"
    }
   ],
   "source": [
    "collections.Counter(_bow)"
   ]
  },
  {
   "cell_type": "code",
   "execution_count": 15,
   "metadata": {},
   "outputs": [],
   "source": [
    "import numpy as np\n",
    "from sklearn.feature_extraction.text import CountVectorizer"
   ]
  },
  {
   "cell_type": "code",
   "execution_count": 16,
   "metadata": {},
   "outputs": [],
   "source": [
    "count = CountVectorizer()"
   ]
  },
  {
   "cell_type": "code",
   "execution_count": 17,
   "metadata": {},
   "outputs": [
    {
     "data": {
      "text/plain": [
       "'Baa, baa, black sheep, Have you any wool? Yes, sir, yes, sir, Three bags full; One for the master, And one for the dame, And one for the little boy Who lives down the lane.'"
      ]
     },
     "execution_count": 17,
     "metadata": {},
     "output_type": "execute_result"
    }
   ],
   "source": [
    "sentence"
   ]
  },
  {
   "cell_type": "code",
   "execution_count": 24,
   "metadata": {},
   "outputs": [],
   "source": [
    "bow = count.fit_transform(np.array([sentence]))"
   ]
  },
  {
   "cell_type": "code",
   "execution_count": 25,
   "metadata": {},
   "outputs": [
    {
     "data": {
      "text/plain": [
       "<1x24 sparse matrix of type '<class 'numpy.int64'>'\n",
       "\twith 24 stored elements in Compressed Sparse Row format>"
      ]
     },
     "execution_count": 25,
     "metadata": {},
     "output_type": "execute_result"
    }
   ],
   "source": [
    "bow"
   ]
  },
  {
   "cell_type": "code",
   "execution_count": 27,
   "metadata": {},
   "outputs": [
    {
     "data": {
      "text/plain": [
       "{'baa': 2,\n",
       " 'black': 4,\n",
       " 'sheep': 16,\n",
       " 'have': 10,\n",
       " 'you': 23,\n",
       " 'any': 1,\n",
       " 'wool': 21,\n",
       " 'yes': 22,\n",
       " 'sir': 17,\n",
       " 'three': 19,\n",
       " 'bags': 3,\n",
       " 'full': 9,\n",
       " 'one': 15,\n",
       " 'for': 8,\n",
       " 'the': 18,\n",
       " 'master': 14,\n",
       " 'and': 0,\n",
       " 'dame': 6,\n",
       " 'little': 12,\n",
       " 'boy': 5,\n",
       " 'who': 20,\n",
       " 'lives': 13,\n",
       " 'down': 7,\n",
       " 'lane': 11}"
      ]
     },
     "execution_count": 27,
     "metadata": {},
     "output_type": "execute_result"
    }
   ],
   "source": [
    "count.vocabulary_"
   ]
  },
  {
   "cell_type": "code",
   "execution_count": 31,
   "metadata": {},
   "outputs": [
    {
     "data": {
      "text/plain": [
       "array([[2, 1, 2, 1, 1, 1, 1, 1, 3, 1, 1, 1, 1, 1, 1, 3, 1, 2, 4, 1, 1, 1,\n",
       "        2, 1]], dtype=int64)"
      ]
     },
     "execution_count": 31,
     "metadata": {},
     "output_type": "execute_result"
    }
   ],
   "source": [
    "bow.toarray()"
   ]
  },
  {
   "cell_type": "code",
   "execution_count": 32,
   "metadata": {},
   "outputs": [
    {
     "data": {
      "text/plain": [
       "array([2, 1, 2, 1, 1, 1, 1, 1, 3, 1, 1, 1, 1, 1, 1, 3, 1, 2, 4, 1, 1, 1,\n",
       "       2, 1], dtype=int64)"
      ]
     },
     "execution_count": 32,
     "metadata": {},
     "output_type": "execute_result"
    }
   ],
   "source": [
    "counts = bow.toarray().ravel()\n",
    "counts"
   ]
  },
  {
   "cell_type": "code",
   "execution_count": 33,
   "metadata": {},
   "outputs": [
    {
     "data": {
      "text/plain": [
       "['and',\n",
       " 'any',\n",
       " 'baa',\n",
       " 'bags',\n",
       " 'black',\n",
       " 'boy',\n",
       " 'dame',\n",
       " 'down',\n",
       " 'for',\n",
       " 'full',\n",
       " 'have',\n",
       " 'lane',\n",
       " 'little',\n",
       " 'lives',\n",
       " 'master',\n",
       " 'one',\n",
       " 'sheep',\n",
       " 'sir',\n",
       " 'the',\n",
       " 'three',\n",
       " 'who',\n",
       " 'wool',\n",
       " 'yes',\n",
       " 'you']"
      ]
     },
     "execution_count": 33,
     "metadata": {},
     "output_type": "execute_result"
    }
   ],
   "source": [
    "#Get the features\n",
    "#your code goes here\n",
    "features = count.get_feature_names()\n",
    "features"
   ]
  },
  {
   "cell_type": "code",
   "execution_count": 34,
   "metadata": {},
   "outputs": [
    {
     "data": {
      "text/plain": [
       "{'and': 2,\n",
       " 'any': 1,\n",
       " 'baa': 2,\n",
       " 'bags': 1,\n",
       " 'black': 1,\n",
       " 'boy': 1,\n",
       " 'dame': 1,\n",
       " 'down': 1,\n",
       " 'for': 3,\n",
       " 'full': 1,\n",
       " 'have': 1,\n",
       " 'lane': 1,\n",
       " 'little': 1,\n",
       " 'lives': 1,\n",
       " 'master': 1,\n",
       " 'one': 3,\n",
       " 'sheep': 1,\n",
       " 'sir': 2,\n",
       " 'the': 4,\n",
       " 'three': 1,\n",
       " 'who': 1,\n",
       " 'wool': 1,\n",
       " 'yes': 2,\n",
       " 'you': 1}"
      ]
     },
     "execution_count": 34,
     "metadata": {},
     "output_type": "execute_result"
    }
   ],
   "source": [
    "#get the map words to their counts\n",
    "dict(zip(features, counts))"
   ]
  },
  {
   "cell_type": "code",
   "execution_count": 35,
   "metadata": {},
   "outputs": [],
   "source": [
    "count = CountVectorizer(stop_words='english')"
   ]
  },
  {
   "cell_type": "code",
   "execution_count": 36,
   "metadata": {},
   "outputs": [],
   "source": [
    "bow = count.fit_transform(np.array([sentence]))"
   ]
  },
  {
   "cell_type": "code",
   "execution_count": 37,
   "metadata": {},
   "outputs": [
    {
     "data": {
      "text/plain": [
       "{'baa': 0,\n",
       " 'black': 2,\n",
       " 'sheep': 9,\n",
       " 'wool': 11,\n",
       " 'yes': 12,\n",
       " 'sir': 10,\n",
       " 'bags': 1,\n",
       " 'master': 8,\n",
       " 'dame': 4,\n",
       " 'little': 6,\n",
       " 'boy': 3,\n",
       " 'lives': 7,\n",
       " 'lane': 5}"
      ]
     },
     "execution_count": 37,
     "metadata": {},
     "output_type": "execute_result"
    }
   ],
   "source": [
    "count.vocabulary_"
   ]
  },
  {
   "cell_type": "code",
   "execution_count": 39,
   "metadata": {},
   "outputs": [
    {
     "data": {
      "text/plain": [
       "array([[2, 1, 1, 1, 1, 1, 1, 1, 1, 1, 2, 1, 2]], dtype=int64)"
      ]
     },
     "execution_count": 39,
     "metadata": {},
     "output_type": "execute_result"
    }
   ],
   "source": [
    "bow.toarray()"
   ]
  },
  {
   "cell_type": "code",
   "execution_count": 46,
   "metadata": {},
   "outputs": [
    {
     "data": {
      "text/plain": [
       "{'baa': 0,\n",
       " 'black': 5,\n",
       " 'sheep': 18,\n",
       " 'wool': 23,\n",
       " 'yes': 25,\n",
       " 'sir': 20,\n",
       " 'bags': 3,\n",
       " 'master': 16,\n",
       " 'dame': 9,\n",
       " 'little': 12,\n",
       " 'boy': 7,\n",
       " 'lives': 14,\n",
       " 'lane': 11,\n",
       " 'baa baa': 1,\n",
       " 'baa black': 2,\n",
       " 'black sheep': 6,\n",
       " 'sheep wool': 19,\n",
       " 'wool yes': 24,\n",
       " 'yes sir': 26,\n",
       " 'sir yes': 22,\n",
       " 'sir bags': 21,\n",
       " 'bags master': 4,\n",
       " 'master dame': 17,\n",
       " 'dame little': 10,\n",
       " 'little boy': 13,\n",
       " 'boy lives': 8,\n",
       " 'lives lane': 15}"
      ]
     },
     "execution_count": 46,
     "metadata": {},
     "output_type": "execute_result"
    }
   ],
   "source": [
    "count = CountVectorizer(stop_words='english', ngram_range=(1,2))\n",
    "bow = count.fit_transform(np.array([sentence]))\n",
    "count.vocabulary_"
   ]
  },
  {
   "cell_type": "code",
   "execution_count": 47,
   "metadata": {},
   "outputs": [],
   "source": [
    "from sklearn.feature_extraction.text import TfidfTransformer"
   ]
  },
  {
   "cell_type": "code",
   "execution_count": 48,
   "metadata": {},
   "outputs": [],
   "source": [
    "sentences = ['Singapore is a island city  south east asia ', \\\n",
    "             'Singapore has one main island with 62 other islands', \\\n",
    "            'Singapore has a tropical rainforest climate with no distinctive seasons. The currency of Singapore is the Singapore dollar.']"
   ]
  },
  {
   "cell_type": "code",
   "execution_count": 49,
   "metadata": {},
   "outputs": [],
   "source": [
    "countv = CountVectorizer(stop_words='english')\n",
    "tfidf = TfidfTransformer(use_idf=True,\\\n",
    "                        norm = 'l2', \\\n",
    "                        smooth_idf=True)"
   ]
  },
  {
   "cell_type": "code",
   "execution_count": 50,
   "metadata": {},
   "outputs": [
    {
     "name": "stdout",
     "output_type": "stream",
     "text": [
      "  (0, 14)\t0.450504072643198\n",
      "  (0, 13)\t0.2660749625405929\n",
      "  (0, 8)\t0.3426199591918006\n",
      "  (0, 7)\t0.450504072643198\n",
      "  (0, 2)\t0.450504072643198\n",
      "  (0, 1)\t0.450504072643198\n",
      "  (1, 13)\t0.2980315863446099\n",
      "  (1, 10)\t0.5046113401371842\n",
      "  (1, 9)\t0.5046113401371842\n",
      "  (1, 8)\t0.3837699307603192\n",
      "  (1, 0)\t0.5046113401371842\n",
      "  (2, 15)\t0.31404571791576386\n",
      "  (2, 13)\t0.5564413800315426\n",
      "  (2, 12)\t0.31404571791576386\n",
      "  (2, 11)\t0.31404571791576386\n",
      "  (2, 6)\t0.31404571791576386\n",
      "  (2, 5)\t0.31404571791576386\n",
      "  (2, 4)\t0.31404571791576386\n",
      "  (2, 3)\t0.31404571791576386\n"
     ]
    }
   ],
   "source": [
    "print(tfidf.fit_transform(countv.fit_transform(np.array(sentences))))"
   ]
  },
  {
   "cell_type": "code",
   "execution_count": 51,
   "metadata": {},
   "outputs": [
    {
     "data": {
      "text/plain": [
       "{'singapore': 13,\n",
       " 'island': 8,\n",
       " 'city': 2,\n",
       " 'south': 14,\n",
       " 'east': 7,\n",
       " 'asia': 1,\n",
       " 'main': 10,\n",
       " '62': 0,\n",
       " 'islands': 9,\n",
       " 'tropical': 15,\n",
       " 'rainforest': 11,\n",
       " 'climate': 3,\n",
       " 'distinctive': 5,\n",
       " 'seasons': 12,\n",
       " 'currency': 4,\n",
       " 'dollar': 6}"
      ]
     },
     "execution_count": 51,
     "metadata": {},
     "output_type": "execute_result"
    }
   ],
   "source": [
    "countv.vocabulary_"
   ]
  },
  {
   "cell_type": "code",
   "execution_count": 52,
   "metadata": {},
   "outputs": [],
   "source": [
    "countv = CountVectorizer(stop_words='english')\n",
    "tfidf = TfidfTransformer(use_idf=False,\\\n",
    "                        norm = 'l2', \\\n",
    "                        smooth_idf=False)"
   ]
  },
  {
   "cell_type": "code",
   "execution_count": 53,
   "metadata": {},
   "outputs": [],
   "source": [
    "_bow = countv.fit_transform(np.array(sentences))"
   ]
  },
  {
   "cell_type": "code",
   "execution_count": 54,
   "metadata": {},
   "outputs": [
    {
     "name": "stdout",
     "output_type": "stream",
     "text": [
      "  (0, 1)\t0.4082482904638631\n",
      "  (0, 2)\t0.4082482904638631\n",
      "  (0, 7)\t0.4082482904638631\n",
      "  (0, 8)\t0.4082482904638631\n",
      "  (0, 13)\t0.4082482904638631\n",
      "  (0, 14)\t0.4082482904638631\n",
      "  (1, 0)\t0.4472135954999579\n",
      "  (1, 8)\t0.4472135954999579\n",
      "  (1, 9)\t0.4472135954999579\n",
      "  (1, 10)\t0.4472135954999579\n",
      "  (1, 13)\t0.4472135954999579\n",
      "  (2, 3)\t0.25\n",
      "  (2, 4)\t0.25\n",
      "  (2, 5)\t0.25\n",
      "  (2, 6)\t0.25\n",
      "  (2, 11)\t0.25\n",
      "  (2, 12)\t0.25\n",
      "  (2, 13)\t0.75\n",
      "  (2, 15)\t0.25\n"
     ]
    }
   ],
   "source": [
    "tfi = tfidf.fit_transform(_bow)\n",
    "print(tfi)"
   ]
  },
  {
   "cell_type": "code",
   "execution_count": 55,
   "metadata": {},
   "outputs": [
    {
     "name": "stdout",
     "output_type": "stream",
     "text": [
      "  (0, 1)\t0.16666666666666666\n",
      "  (0, 2)\t0.16666666666666666\n",
      "  (0, 7)\t0.16666666666666666\n",
      "  (0, 8)\t0.16666666666666666\n",
      "  (0, 13)\t0.16666666666666666\n",
      "  (0, 14)\t0.16666666666666666\n",
      "  (1, 0)\t0.2\n",
      "  (1, 8)\t0.2\n",
      "  (1, 9)\t0.2\n",
      "  (1, 10)\t0.2\n",
      "  (1, 13)\t0.2\n",
      "  (2, 3)\t0.1\n",
      "  (2, 4)\t0.1\n",
      "  (2, 5)\t0.1\n",
      "  (2, 6)\t0.1\n",
      "  (2, 11)\t0.1\n",
      "  (2, 12)\t0.1\n",
      "  (2, 13)\t0.3\n",
      "  (2, 15)\t0.1\n"
     ]
    }
   ],
   "source": [
    "countv = CountVectorizer(stop_words='english')\n",
    "tfidf = TfidfTransformer(use_idf=False,\\\n",
    "                        norm = 'l1', \\\n",
    "                        smooth_idf=False)\n",
    "_bow = countv.fit_transform(np.array(sentences))\n",
    "tfi = tfidf.fit_transform(_bow)\n",
    "print(tfi)"
   ]
  },
  {
   "cell_type": "code",
   "execution_count": null,
   "metadata": {},
   "outputs": [],
   "source": []
  }
 ],
 "metadata": {
  "kernelspec": {
   "display_name": "Python 3",
   "language": "python",
   "name": "python3"
  },
  "language_info": {
   "codemirror_mode": {
    "name": "ipython",
    "version": 3
   },
   "file_extension": ".py",
   "mimetype": "text/x-python",
   "name": "python",
   "nbconvert_exporter": "python",
   "pygments_lexer": "ipython3",
   "version": "3.7.0"
  }
 },
 "nbformat": 4,
 "nbformat_minor": 2
}
